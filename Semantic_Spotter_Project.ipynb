{
 "cells": [
  {
   "cell_type": "markdown",
   "id": "cf648a92-bdff-4c2b-90d6-144fb8af484c",
   "metadata": {
    "id": "56399ac5-65ad-4ba2-88a7-de9025d96b51"
   },
   "source": [
    "# Semantic Spotter Project - Search Product from Myntra Fashion Database using RAG in LangChain\n",
    "\n",
    "The \"Semantic Spotter Project\" is an application designed to facilitate product searches from the Myntra Fashion Database using Retrieval-Augmented Generation (RAG) in LangChain. The project aims to enhance product discovery by leveraging advanced language models to provide contextually relevant product recommendations based on user queries.\n",
    "\n",
    "By combining vector databases (using ChromaDB) and OpenAI embeddings, the system stores fashion product descriptions and metadata (such as features, price, and brand). This allows the model to efficiently search and retrieve the most relevant products based on semantic similarity.\n",
    "\n",
    "**The key steps in the project involve:**\n",
    "\n",
    "1. **Data Collection:** Extracting product data (such as descriptions and features) from the Myntra fashion database.\n",
    "\n",
    "2. **Embedding Generation:** Using OpenAI embeddings to convert product information into dense vector representations.\n",
    "\n",
    "3. **Vector Store:** Storing the embeddings and metadata in ChromaDB for fast retrieval.\n",
    "\n",
    "4. **Query Processing:** Allowing users to input natural language queries, which are then processed using the LangChain framework to find the most relevant products.\n",
    "\n",
    "5. **RAG Integration:** The system utilizes Retrieval-Augmented Generation (RAG) to augment the response generation by retrieving the top product matches based on the semantic relevance of the query.\n",
    "\n",
    "By using this approach, the project aims to improve the search experience for Myntra’s users by delivering more accurate and context-aware product recommendations, making the fashion search process more intuitive and efficient."
   ]
  },
  {
   "cell_type": "code",
   "execution_count": 39,
   "id": "a3T4foBFsVbp",
   "metadata": {
    "id": "a3T4foBFsVbp"
   },
   "outputs": [],
   "source": [
    "# Install required libraries\n",
    "!pip install -qU langchain langchain-openai langchain-community tiktoken"
   ]
  },
  {
   "cell_type": "code",
   "execution_count": 40,
   "id": "a6be4a08-bc43-4169-93cf-ec839bff3842",
   "metadata": {
    "id": "a6be4a08-bc43-4169-93cf-ec839bff3842"
   },
   "outputs": [],
   "source": [
    "# Import required libraries\n",
    "import pandas as pd\n",
    "from langchain.vectorstores import Chroma\n",
    "from langchain.chains import RetrievalQA\n",
    "from langchain_openai import OpenAI\n",
    "from langchain_openai import OpenAIEmbeddings\n",
    "from langchain.schema import Document"
   ]
  },
  {
   "cell_type": "markdown",
   "id": "99db06ec-af33-40b0-b2bb-da6e8d2d3da5",
   "metadata": {
    "id": "99db06ec-af33-40b0-b2bb-da6e8d2d3da5"
   },
   "source": [
    "## Explatory Data Analysis"
   ]
  },
  {
   "cell_type": "code",
   "execution_count": 3,
   "id": "C53evEYIB17I",
   "metadata": {
    "colab": {
     "base_uri": "https://localhost:8080/"
    },
    "id": "C53evEYIB17I",
    "outputId": "97663817-ac08-4b38-90ec-38109b6c596b"
   },
   "outputs": [
    {
     "name": "stdout",
     "output_type": "stream",
     "text": [
      "Mounted at /content/drive\n"
     ]
    }
   ],
   "source": [
    "# Mounting google drive and importing Myntra Fashion dataset\n",
    "# Dataset can be downloaded from the link : https://www.kaggle.com/datasets/manishmathias/myntra-fashion-dataset\n",
    "from google.colab import drive\n",
    "drive.mount(\"/content/drive\")"
   ]
  },
  {
   "cell_type": "code",
   "execution_count": 4,
   "id": "6tkVDVABE8Z4",
   "metadata": {
    "id": "6tkVDVABE8Z4"
   },
   "outputs": [],
   "source": [
    "# drive path\n",
    "drive_path =\"/content/drive/MyDrive/semantic_spotter_project/\""
   ]
  },
  {
   "cell_type": "code",
   "execution_count": 5,
   "id": "8520a294-654d-4729-b045-6c9d00d3f52a",
   "metadata": {
    "colab": {
     "base_uri": "https://localhost:8080/",
     "height": 573
    },
    "id": "8520a294-654d-4729-b045-6c9d00d3f52a",
    "outputId": "1c73a01b-37dc-4223-87ff-cbdf856e8775"
   },
   "outputs": [
    {
     "name": "stderr",
     "output_type": "stream",
     "text": [
      "<ipython-input-5-f9cb4f0c57bc>:2: DtypeWarning: Columns (9) have mixed types. Specify dtype option on import or set low_memory=False.\n",
      "  df = pd.read_csv(drive_path+\"Myntra Fasion Clothing.csv\")\n"
     ]
    },
    {
     "data": {
      "application/vnd.google.colaboratory.intrinsic+json": {
       "type": "dataframe",
       "variable_name": "df"
      },
      "text/html": [
       "\n",
       "  <div id=\"df-294f043e-9eca-4495-abba-7e7956799dd0\" class=\"colab-df-container\">\n",
       "    <div>\n",
       "<style scoped>\n",
       "    .dataframe tbody tr th:only-of-type {\n",
       "        vertical-align: middle;\n",
       "    }\n",
       "\n",
       "    .dataframe tbody tr th {\n",
       "        vertical-align: top;\n",
       "    }\n",
       "\n",
       "    .dataframe thead th {\n",
       "        text-align: right;\n",
       "    }\n",
       "</style>\n",
       "<table border=\"1\" class=\"dataframe\">\n",
       "  <thead>\n",
       "    <tr style=\"text-align: right;\">\n",
       "      <th></th>\n",
       "      <th>URL</th>\n",
       "      <th>Product_id</th>\n",
       "      <th>BrandName</th>\n",
       "      <th>Category</th>\n",
       "      <th>Individual_category</th>\n",
       "      <th>category_by_Gender</th>\n",
       "      <th>Description</th>\n",
       "      <th>DiscountPrice (in Rs)</th>\n",
       "      <th>OriginalPrice (in Rs)</th>\n",
       "      <th>DiscountOffer</th>\n",
       "      <th>SizeOption</th>\n",
       "      <th>Ratings</th>\n",
       "      <th>Reviews</th>\n",
       "    </tr>\n",
       "  </thead>\n",
       "  <tbody>\n",
       "    <tr>\n",
       "      <th>0</th>\n",
       "      <td>https://www.myntra.com/jeans/roadster/roadster...</td>\n",
       "      <td>2296012</td>\n",
       "      <td>Roadster</td>\n",
       "      <td>Bottom Wear</td>\n",
       "      <td>jeans</td>\n",
       "      <td>Men</td>\n",
       "      <td>roadster men navy blue slim fit mid rise clean...</td>\n",
       "      <td>824.0</td>\n",
       "      <td>1499.0</td>\n",
       "      <td>45% OFF</td>\n",
       "      <td>28, 30, 32, 34, 36</td>\n",
       "      <td>3.9</td>\n",
       "      <td>999.0</td>\n",
       "    </tr>\n",
       "    <tr>\n",
       "      <th>1</th>\n",
       "      <td>https://www.myntra.com/track-pants/locomotive/...</td>\n",
       "      <td>13780156</td>\n",
       "      <td>LOCOMOTIVE</td>\n",
       "      <td>Bottom Wear</td>\n",
       "      <td>track-pants</td>\n",
       "      <td>Men</td>\n",
       "      <td>locomotive men black  white solid slim fit tra...</td>\n",
       "      <td>517.0</td>\n",
       "      <td>1149.0</td>\n",
       "      <td>55% OFF</td>\n",
       "      <td>S, M, L, XL</td>\n",
       "      <td>4.0</td>\n",
       "      <td>999.0</td>\n",
       "    </tr>\n",
       "    <tr>\n",
       "      <th>2</th>\n",
       "      <td>https://www.myntra.com/shirts/roadster/roadste...</td>\n",
       "      <td>11895958</td>\n",
       "      <td>Roadster</td>\n",
       "      <td>Topwear</td>\n",
       "      <td>shirts</td>\n",
       "      <td>Men</td>\n",
       "      <td>roadster men navy white  black geometric print...</td>\n",
       "      <td>629.0</td>\n",
       "      <td>1399.0</td>\n",
       "      <td>55% OFF</td>\n",
       "      <td>38, 40, 42, 44, 46, 48</td>\n",
       "      <td>4.3</td>\n",
       "      <td>999.0</td>\n",
       "    </tr>\n",
       "    <tr>\n",
       "      <th>3</th>\n",
       "      <td>https://www.myntra.com/shapewear/zivame/zivame...</td>\n",
       "      <td>4335679</td>\n",
       "      <td>Zivame</td>\n",
       "      <td>Lingerie &amp; Sleep Wear</td>\n",
       "      <td>shapewear</td>\n",
       "      <td>Women</td>\n",
       "      <td>zivame women black saree shapewear zi3023core0...</td>\n",
       "      <td>893.0</td>\n",
       "      <td>1295.0</td>\n",
       "      <td>31% OFF</td>\n",
       "      <td>S, M, L, XL, XXL</td>\n",
       "      <td>4.2</td>\n",
       "      <td>999.0</td>\n",
       "    </tr>\n",
       "    <tr>\n",
       "      <th>4</th>\n",
       "      <td>https://www.myntra.com/tshirts/roadster/roadst...</td>\n",
       "      <td>11690882</td>\n",
       "      <td>Roadster</td>\n",
       "      <td>Western</td>\n",
       "      <td>tshirts</td>\n",
       "      <td>Women</td>\n",
       "      <td>roadster women white solid v neck pure cotton ...</td>\n",
       "      <td>NaN</td>\n",
       "      <td>599.0</td>\n",
       "      <td>35% OFF</td>\n",
       "      <td>XS, S, M, L, XL</td>\n",
       "      <td>4.2</td>\n",
       "      <td>999.0</td>\n",
       "    </tr>\n",
       "  </tbody>\n",
       "</table>\n",
       "</div>\n",
       "    <div class=\"colab-df-buttons\">\n",
       "\n",
       "  <div class=\"colab-df-container\">\n",
       "    <button class=\"colab-df-convert\" onclick=\"convertToInteractive('df-294f043e-9eca-4495-abba-7e7956799dd0')\"\n",
       "            title=\"Convert this dataframe to an interactive table.\"\n",
       "            style=\"display:none;\">\n",
       "\n",
       "  <svg xmlns=\"http://www.w3.org/2000/svg\" height=\"24px\" viewBox=\"0 -960 960 960\">\n",
       "    <path d=\"M120-120v-720h720v720H120Zm60-500h600v-160H180v160Zm220 220h160v-160H400v160Zm0 220h160v-160H400v160ZM180-400h160v-160H180v160Zm440 0h160v-160H620v160ZM180-180h160v-160H180v160Zm440 0h160v-160H620v160Z\"/>\n",
       "  </svg>\n",
       "    </button>\n",
       "\n",
       "  <style>\n",
       "    .colab-df-container {\n",
       "      display:flex;\n",
       "      gap: 12px;\n",
       "    }\n",
       "\n",
       "    .colab-df-convert {\n",
       "      background-color: #E8F0FE;\n",
       "      border: none;\n",
       "      border-radius: 50%;\n",
       "      cursor: pointer;\n",
       "      display: none;\n",
       "      fill: #1967D2;\n",
       "      height: 32px;\n",
       "      padding: 0 0 0 0;\n",
       "      width: 32px;\n",
       "    }\n",
       "\n",
       "    .colab-df-convert:hover {\n",
       "      background-color: #E2EBFA;\n",
       "      box-shadow: 0px 1px 2px rgba(60, 64, 67, 0.3), 0px 1px 3px 1px rgba(60, 64, 67, 0.15);\n",
       "      fill: #174EA6;\n",
       "    }\n",
       "\n",
       "    .colab-df-buttons div {\n",
       "      margin-bottom: 4px;\n",
       "    }\n",
       "\n",
       "    [theme=dark] .colab-df-convert {\n",
       "      background-color: #3B4455;\n",
       "      fill: #D2E3FC;\n",
       "    }\n",
       "\n",
       "    [theme=dark] .colab-df-convert:hover {\n",
       "      background-color: #434B5C;\n",
       "      box-shadow: 0px 1px 3px 1px rgba(0, 0, 0, 0.15);\n",
       "      filter: drop-shadow(0px 1px 2px rgba(0, 0, 0, 0.3));\n",
       "      fill: #FFFFFF;\n",
       "    }\n",
       "  </style>\n",
       "\n",
       "    <script>\n",
       "      const buttonEl =\n",
       "        document.querySelector('#df-294f043e-9eca-4495-abba-7e7956799dd0 button.colab-df-convert');\n",
       "      buttonEl.style.display =\n",
       "        google.colab.kernel.accessAllowed ? 'block' : 'none';\n",
       "\n",
       "      async function convertToInteractive(key) {\n",
       "        const element = document.querySelector('#df-294f043e-9eca-4495-abba-7e7956799dd0');\n",
       "        const dataTable =\n",
       "          await google.colab.kernel.invokeFunction('convertToInteractive',\n",
       "                                                    [key], {});\n",
       "        if (!dataTable) return;\n",
       "\n",
       "        const docLinkHtml = 'Like what you see? Visit the ' +\n",
       "          '<a target=\"_blank\" href=https://colab.research.google.com/notebooks/data_table.ipynb>data table notebook</a>'\n",
       "          + ' to learn more about interactive tables.';\n",
       "        element.innerHTML = '';\n",
       "        dataTable['output_type'] = 'display_data';\n",
       "        await google.colab.output.renderOutput(dataTable, element);\n",
       "        const docLink = document.createElement('div');\n",
       "        docLink.innerHTML = docLinkHtml;\n",
       "        element.appendChild(docLink);\n",
       "      }\n",
       "    </script>\n",
       "  </div>\n",
       "\n",
       "\n",
       "<div id=\"df-25369258-1cc3-49e9-a391-c232fd0d142a\">\n",
       "  <button class=\"colab-df-quickchart\" onclick=\"quickchart('df-25369258-1cc3-49e9-a391-c232fd0d142a')\"\n",
       "            title=\"Suggest charts\"\n",
       "            style=\"display:none;\">\n",
       "\n",
       "<svg xmlns=\"http://www.w3.org/2000/svg\" height=\"24px\"viewBox=\"0 0 24 24\"\n",
       "     width=\"24px\">\n",
       "    <g>\n",
       "        <path d=\"M19 3H5c-1.1 0-2 .9-2 2v14c0 1.1.9 2 2 2h14c1.1 0 2-.9 2-2V5c0-1.1-.9-2-2-2zM9 17H7v-7h2v7zm4 0h-2V7h2v10zm4 0h-2v-4h2v4z\"/>\n",
       "    </g>\n",
       "</svg>\n",
       "  </button>\n",
       "\n",
       "<style>\n",
       "  .colab-df-quickchart {\n",
       "      --bg-color: #E8F0FE;\n",
       "      --fill-color: #1967D2;\n",
       "      --hover-bg-color: #E2EBFA;\n",
       "      --hover-fill-color: #174EA6;\n",
       "      --disabled-fill-color: #AAA;\n",
       "      --disabled-bg-color: #DDD;\n",
       "  }\n",
       "\n",
       "  [theme=dark] .colab-df-quickchart {\n",
       "      --bg-color: #3B4455;\n",
       "      --fill-color: #D2E3FC;\n",
       "      --hover-bg-color: #434B5C;\n",
       "      --hover-fill-color: #FFFFFF;\n",
       "      --disabled-bg-color: #3B4455;\n",
       "      --disabled-fill-color: #666;\n",
       "  }\n",
       "\n",
       "  .colab-df-quickchart {\n",
       "    background-color: var(--bg-color);\n",
       "    border: none;\n",
       "    border-radius: 50%;\n",
       "    cursor: pointer;\n",
       "    display: none;\n",
       "    fill: var(--fill-color);\n",
       "    height: 32px;\n",
       "    padding: 0;\n",
       "    width: 32px;\n",
       "  }\n",
       "\n",
       "  .colab-df-quickchart:hover {\n",
       "    background-color: var(--hover-bg-color);\n",
       "    box-shadow: 0 1px 2px rgba(60, 64, 67, 0.3), 0 1px 3px 1px rgba(60, 64, 67, 0.15);\n",
       "    fill: var(--button-hover-fill-color);\n",
       "  }\n",
       "\n",
       "  .colab-df-quickchart-complete:disabled,\n",
       "  .colab-df-quickchart-complete:disabled:hover {\n",
       "    background-color: var(--disabled-bg-color);\n",
       "    fill: var(--disabled-fill-color);\n",
       "    box-shadow: none;\n",
       "  }\n",
       "\n",
       "  .colab-df-spinner {\n",
       "    border: 2px solid var(--fill-color);\n",
       "    border-color: transparent;\n",
       "    border-bottom-color: var(--fill-color);\n",
       "    animation:\n",
       "      spin 1s steps(1) infinite;\n",
       "  }\n",
       "\n",
       "  @keyframes spin {\n",
       "    0% {\n",
       "      border-color: transparent;\n",
       "      border-bottom-color: var(--fill-color);\n",
       "      border-left-color: var(--fill-color);\n",
       "    }\n",
       "    20% {\n",
       "      border-color: transparent;\n",
       "      border-left-color: var(--fill-color);\n",
       "      border-top-color: var(--fill-color);\n",
       "    }\n",
       "    30% {\n",
       "      border-color: transparent;\n",
       "      border-left-color: var(--fill-color);\n",
       "      border-top-color: var(--fill-color);\n",
       "      border-right-color: var(--fill-color);\n",
       "    }\n",
       "    40% {\n",
       "      border-color: transparent;\n",
       "      border-right-color: var(--fill-color);\n",
       "      border-top-color: var(--fill-color);\n",
       "    }\n",
       "    60% {\n",
       "      border-color: transparent;\n",
       "      border-right-color: var(--fill-color);\n",
       "    }\n",
       "    80% {\n",
       "      border-color: transparent;\n",
       "      border-right-color: var(--fill-color);\n",
       "      border-bottom-color: var(--fill-color);\n",
       "    }\n",
       "    90% {\n",
       "      border-color: transparent;\n",
       "      border-bottom-color: var(--fill-color);\n",
       "    }\n",
       "  }\n",
       "</style>\n",
       "\n",
       "  <script>\n",
       "    async function quickchart(key) {\n",
       "      const quickchartButtonEl =\n",
       "        document.querySelector('#' + key + ' button');\n",
       "      quickchartButtonEl.disabled = true;  // To prevent multiple clicks.\n",
       "      quickchartButtonEl.classList.add('colab-df-spinner');\n",
       "      try {\n",
       "        const charts = await google.colab.kernel.invokeFunction(\n",
       "            'suggestCharts', [key], {});\n",
       "      } catch (error) {\n",
       "        console.error('Error during call to suggestCharts:', error);\n",
       "      }\n",
       "      quickchartButtonEl.classList.remove('colab-df-spinner');\n",
       "      quickchartButtonEl.classList.add('colab-df-quickchart-complete');\n",
       "    }\n",
       "    (() => {\n",
       "      let quickchartButtonEl =\n",
       "        document.querySelector('#df-25369258-1cc3-49e9-a391-c232fd0d142a button');\n",
       "      quickchartButtonEl.style.display =\n",
       "        google.colab.kernel.accessAllowed ? 'block' : 'none';\n",
       "    })();\n",
       "  </script>\n",
       "</div>\n",
       "\n",
       "    </div>\n",
       "  </div>\n"
      ],
      "text/plain": [
       "                                                 URL  Product_id   BrandName  \\\n",
       "0  https://www.myntra.com/jeans/roadster/roadster...     2296012    Roadster   \n",
       "1  https://www.myntra.com/track-pants/locomotive/...    13780156  LOCOMOTIVE   \n",
       "2  https://www.myntra.com/shirts/roadster/roadste...    11895958    Roadster   \n",
       "3  https://www.myntra.com/shapewear/zivame/zivame...     4335679      Zivame   \n",
       "4  https://www.myntra.com/tshirts/roadster/roadst...    11690882    Roadster   \n",
       "\n",
       "                Category Individual_category category_by_Gender  \\\n",
       "0            Bottom Wear               jeans                Men   \n",
       "1            Bottom Wear         track-pants                Men   \n",
       "2                Topwear              shirts                Men   \n",
       "3  Lingerie & Sleep Wear           shapewear              Women   \n",
       "4                Western             tshirts              Women   \n",
       "\n",
       "                                         Description  DiscountPrice (in Rs)  \\\n",
       "0  roadster men navy blue slim fit mid rise clean...                  824.0   \n",
       "1  locomotive men black  white solid slim fit tra...                  517.0   \n",
       "2  roadster men navy white  black geometric print...                  629.0   \n",
       "3  zivame women black saree shapewear zi3023core0...                  893.0   \n",
       "4  roadster women white solid v neck pure cotton ...                    NaN   \n",
       "\n",
       "   OriginalPrice (in Rs) DiscountOffer              SizeOption  Ratings  \\\n",
       "0                 1499.0       45% OFF      28, 30, 32, 34, 36      3.9   \n",
       "1                 1149.0       55% OFF             S, M, L, XL      4.0   \n",
       "2                 1399.0       55% OFF  38, 40, 42, 44, 46, 48      4.3   \n",
       "3                 1295.0       31% OFF        S, M, L, XL, XXL      4.2   \n",
       "4                  599.0       35% OFF         XS, S, M, L, XL      4.2   \n",
       "\n",
       "   Reviews  \n",
       "0    999.0  \n",
       "1    999.0  \n",
       "2    999.0  \n",
       "3    999.0  \n",
       "4    999.0  "
      ]
     },
     "execution_count": 5,
     "metadata": {},
     "output_type": "execute_result"
    }
   ],
   "source": [
    "# Loading dataset in dataframe\n",
    "df = pd.read_csv(drive_path+\"Myntra Fasion Clothing.csv\")\n",
    "df.head(5)"
   ]
  },
  {
   "cell_type": "code",
   "execution_count": 6,
   "id": "41ec54e9-a645-4a4e-adbb-e3e0995ab278",
   "metadata": {
    "colab": {
     "base_uri": "https://localhost:8080/"
    },
    "id": "41ec54e9-a645-4a4e-adbb-e3e0995ab278",
    "outputId": "5ea115dc-2c55-4e82-85e1-cc35b4dbaabe"
   },
   "outputs": [
    {
     "data": {
      "text/plain": [
       "(526564, 13)"
      ]
     },
     "execution_count": 6,
     "metadata": {},
     "output_type": "execute_result"
    }
   ],
   "source": [
    "# Size of the data\n",
    "df.shape"
   ]
  },
  {
   "cell_type": "code",
   "execution_count": 7,
   "id": "dc7726ba-e495-48b9-91e6-53342ebf587d",
   "metadata": {
    "colab": {
     "base_uri": "https://localhost:8080/"
    },
    "id": "dc7726ba-e495-48b9-91e6-53342ebf587d",
    "outputId": "7811828b-2c2c-4eb9-fd28-57bd7338546d"
   },
   "outputs": [
    {
     "name": "stdout",
     "output_type": "stream",
     "text": [
      "<class 'pandas.core.frame.DataFrame'>\n",
      "RangeIndex: 526564 entries, 0 to 526563\n",
      "Data columns (total 13 columns):\n",
      " #   Column                 Non-Null Count   Dtype  \n",
      "---  ------                 --------------   -----  \n",
      " 0   URL                    526564 non-null  object \n",
      " 1   Product_id             526564 non-null  int64  \n",
      " 2   BrandName              526564 non-null  object \n",
      " 3   Category               526564 non-null  object \n",
      " 4   Individual_category    526564 non-null  object \n",
      " 5   category_by_Gender     526564 non-null  object \n",
      " 6   Description            526564 non-null  object \n",
      " 7   DiscountPrice (in Rs)  333406 non-null  float64\n",
      " 8   OriginalPrice (in Rs)  526564 non-null  float64\n",
      " 9   DiscountOffer          452258 non-null  object \n",
      " 10  SizeOption             526564 non-null  object \n",
      " 11  Ratings                190412 non-null  float64\n",
      " 12  Reviews                190412 non-null  float64\n",
      "dtypes: float64(4), int64(1), object(8)\n",
      "memory usage: 52.2+ MB\n"
     ]
    }
   ],
   "source": [
    "# Checking number of null values\n",
    "df.info()"
   ]
  },
  {
   "cell_type": "code",
   "execution_count": 8,
   "id": "be1ceb44-90c3-41b6-becf-bc9b097034b9",
   "metadata": {
    "colab": {
     "base_uri": "https://localhost:8080/"
    },
    "id": "be1ceb44-90c3-41b6-becf-bc9b097034b9",
    "outputId": "35e1a38d-6528-44e9-f88e-e53ae25e6088"
   },
   "outputs": [
    {
     "data": {
      "text/plain": [
       "Index(['Url', 'ProductId', 'BrandName', 'Category', 'SubCategory', 'Gender',\n",
       "       'Description', 'DiscountPrice', 'OriginalPrice', 'DiscountOffer',\n",
       "       'SizeOption', 'Ratings', 'Reviews'],\n",
       "      dtype='object')"
      ]
     },
     "execution_count": 8,
     "metadata": {},
     "output_type": "execute_result"
    }
   ],
   "source": [
    "# Changing columns name\n",
    "df = df.rename(columns={'URL': 'Url',\n",
    "                        'Product_id': 'ProductId',\n",
    "                        'Individual_category': 'SubCategory',\n",
    "                        'category_by_Gender': 'Gender',\n",
    "                        'DiscountPrice (in Rs)': 'DiscountPrice',\n",
    "                        'OriginalPrice (in Rs)': 'OriginalPrice'\n",
    "                       }\n",
    "              )\n",
    "df.columns"
   ]
  },
  {
   "cell_type": "code",
   "execution_count": 9,
   "id": "j2-EFD_45E2n",
   "metadata": {
    "colab": {
     "base_uri": "https://localhost:8080/"
    },
    "id": "j2-EFD_45E2n",
    "outputId": "c09aff42-b545-49b6-958b-019fc152a7a2"
   },
   "outputs": [
    {
     "data": {
      "text/plain": [
       "(117541, 13)"
      ]
     },
     "execution_count": 9,
     "metadata": {},
     "output_type": "execute_result"
    }
   ],
   "source": [
    "# Dropping NA values\n",
    "df=  df.dropna()\n",
    "df.shape"
   ]
  },
  {
   "cell_type": "code",
   "execution_count": 10,
   "id": "33CAWwN45NLR",
   "metadata": {
    "colab": {
     "base_uri": "https://localhost:8080/"
    },
    "id": "33CAWwN45NLR",
    "outputId": "80da9e48-673b-4ace-be91-dea3f15ef02f"
   },
   "outputs": [
    {
     "name": "stdout",
     "output_type": "stream",
     "text": [
      "<class 'pandas.core.frame.DataFrame'>\n",
      "Index: 117541 entries, 0 to 188769\n",
      "Data columns (total 13 columns):\n",
      " #   Column         Non-Null Count   Dtype  \n",
      "---  ------         --------------   -----  \n",
      " 0   Url            117541 non-null  object \n",
      " 1   ProductId      117541 non-null  int64  \n",
      " 2   BrandName      117541 non-null  object \n",
      " 3   Category       117541 non-null  object \n",
      " 4   SubCategory    117541 non-null  object \n",
      " 5   Gender         117541 non-null  object \n",
      " 6   Description    117541 non-null  object \n",
      " 7   DiscountPrice  117541 non-null  float64\n",
      " 8   OriginalPrice  117541 non-null  float64\n",
      " 9   DiscountOffer  117541 non-null  object \n",
      " 10  SizeOption     117541 non-null  object \n",
      " 11  Ratings        117541 non-null  float64\n",
      " 12  Reviews        117541 non-null  float64\n",
      "dtypes: float64(4), int64(1), object(8)\n",
      "memory usage: 12.6+ MB\n"
     ]
    }
   ],
   "source": [
    "df.info()"
   ]
  },
  {
   "cell_type": "code",
   "execution_count": 11,
   "id": "3f780498-57db-4bac-9c86-893a89720cb8",
   "metadata": {
    "colab": {
     "base_uri": "https://localhost:8080/",
     "height": 236
    },
    "id": "3f780498-57db-4bac-9c86-893a89720cb8",
    "outputId": "5350842f-c0e9-464d-a677-97e2b204f443"
   },
   "outputs": [
    {
     "data": {
      "application/vnd.google.colaboratory.intrinsic+json": {
       "type": "dataframe",
       "variable_name": "df"
      },
      "text/html": [
       "\n",
       "  <div id=\"df-ca62de82-f2b5-4449-9416-3299a9e22c62\" class=\"colab-df-container\">\n",
       "    <div>\n",
       "<style scoped>\n",
       "    .dataframe tbody tr th:only-of-type {\n",
       "        vertical-align: middle;\n",
       "    }\n",
       "\n",
       "    .dataframe tbody tr th {\n",
       "        vertical-align: top;\n",
       "    }\n",
       "\n",
       "    .dataframe thead th {\n",
       "        text-align: right;\n",
       "    }\n",
       "</style>\n",
       "<table border=\"1\" class=\"dataframe\">\n",
       "  <thead>\n",
       "    <tr style=\"text-align: right;\">\n",
       "      <th></th>\n",
       "      <th>Url</th>\n",
       "      <th>ProductId</th>\n",
       "      <th>BrandName</th>\n",
       "      <th>Category</th>\n",
       "      <th>SubCategory</th>\n",
       "      <th>Gender</th>\n",
       "      <th>Description</th>\n",
       "      <th>DiscountPrice</th>\n",
       "      <th>OriginalPrice</th>\n",
       "      <th>DiscountOffer</th>\n",
       "      <th>SizeOption</th>\n",
       "      <th>Ratings</th>\n",
       "      <th>Reviews</th>\n",
       "    </tr>\n",
       "  </thead>\n",
       "  <tbody>\n",
       "    <tr>\n",
       "      <th>0</th>\n",
       "      <td>https://www.myntra.com/jeans/roadster/roadster...</td>\n",
       "      <td>2296012</td>\n",
       "      <td>Roadster</td>\n",
       "      <td>Bottom Wear</td>\n",
       "      <td>jeans</td>\n",
       "      <td>Men</td>\n",
       "      <td>roadster men navy blue slim fit mid rise clean...</td>\n",
       "      <td>824.0</td>\n",
       "      <td>1499.0</td>\n",
       "      <td>45% OFF</td>\n",
       "      <td>28, 30, 32, 34, 36</td>\n",
       "      <td>3.9</td>\n",
       "      <td>999.0</td>\n",
       "    </tr>\n",
       "    <tr>\n",
       "      <th>1</th>\n",
       "      <td>https://www.myntra.com/track-pants/locomotive/...</td>\n",
       "      <td>13780156</td>\n",
       "      <td>LOCOMOTIVE</td>\n",
       "      <td>Bottom Wear</td>\n",
       "      <td>track-pants</td>\n",
       "      <td>Men</td>\n",
       "      <td>locomotive men black  white solid slim fit tra...</td>\n",
       "      <td>517.0</td>\n",
       "      <td>1149.0</td>\n",
       "      <td>55% OFF</td>\n",
       "      <td>S, M, L, XL</td>\n",
       "      <td>4.0</td>\n",
       "      <td>999.0</td>\n",
       "    </tr>\n",
       "  </tbody>\n",
       "</table>\n",
       "</div>\n",
       "    <div class=\"colab-df-buttons\">\n",
       "\n",
       "  <div class=\"colab-df-container\">\n",
       "    <button class=\"colab-df-convert\" onclick=\"convertToInteractive('df-ca62de82-f2b5-4449-9416-3299a9e22c62')\"\n",
       "            title=\"Convert this dataframe to an interactive table.\"\n",
       "            style=\"display:none;\">\n",
       "\n",
       "  <svg xmlns=\"http://www.w3.org/2000/svg\" height=\"24px\" viewBox=\"0 -960 960 960\">\n",
       "    <path d=\"M120-120v-720h720v720H120Zm60-500h600v-160H180v160Zm220 220h160v-160H400v160Zm0 220h160v-160H400v160ZM180-400h160v-160H180v160Zm440 0h160v-160H620v160ZM180-180h160v-160H180v160Zm440 0h160v-160H620v160Z\"/>\n",
       "  </svg>\n",
       "    </button>\n",
       "\n",
       "  <style>\n",
       "    .colab-df-container {\n",
       "      display:flex;\n",
       "      gap: 12px;\n",
       "    }\n",
       "\n",
       "    .colab-df-convert {\n",
       "      background-color: #E8F0FE;\n",
       "      border: none;\n",
       "      border-radius: 50%;\n",
       "      cursor: pointer;\n",
       "      display: none;\n",
       "      fill: #1967D2;\n",
       "      height: 32px;\n",
       "      padding: 0 0 0 0;\n",
       "      width: 32px;\n",
       "    }\n",
       "\n",
       "    .colab-df-convert:hover {\n",
       "      background-color: #E2EBFA;\n",
       "      box-shadow: 0px 1px 2px rgba(60, 64, 67, 0.3), 0px 1px 3px 1px rgba(60, 64, 67, 0.15);\n",
       "      fill: #174EA6;\n",
       "    }\n",
       "\n",
       "    .colab-df-buttons div {\n",
       "      margin-bottom: 4px;\n",
       "    }\n",
       "\n",
       "    [theme=dark] .colab-df-convert {\n",
       "      background-color: #3B4455;\n",
       "      fill: #D2E3FC;\n",
       "    }\n",
       "\n",
       "    [theme=dark] .colab-df-convert:hover {\n",
       "      background-color: #434B5C;\n",
       "      box-shadow: 0px 1px 3px 1px rgba(0, 0, 0, 0.15);\n",
       "      filter: drop-shadow(0px 1px 2px rgba(0, 0, 0, 0.3));\n",
       "      fill: #FFFFFF;\n",
       "    }\n",
       "  </style>\n",
       "\n",
       "    <script>\n",
       "      const buttonEl =\n",
       "        document.querySelector('#df-ca62de82-f2b5-4449-9416-3299a9e22c62 button.colab-df-convert');\n",
       "      buttonEl.style.display =\n",
       "        google.colab.kernel.accessAllowed ? 'block' : 'none';\n",
       "\n",
       "      async function convertToInteractive(key) {\n",
       "        const element = document.querySelector('#df-ca62de82-f2b5-4449-9416-3299a9e22c62');\n",
       "        const dataTable =\n",
       "          await google.colab.kernel.invokeFunction('convertToInteractive',\n",
       "                                                    [key], {});\n",
       "        if (!dataTable) return;\n",
       "\n",
       "        const docLinkHtml = 'Like what you see? Visit the ' +\n",
       "          '<a target=\"_blank\" href=https://colab.research.google.com/notebooks/data_table.ipynb>data table notebook</a>'\n",
       "          + ' to learn more about interactive tables.';\n",
       "        element.innerHTML = '';\n",
       "        dataTable['output_type'] = 'display_data';\n",
       "        await google.colab.output.renderOutput(dataTable, element);\n",
       "        const docLink = document.createElement('div');\n",
       "        docLink.innerHTML = docLinkHtml;\n",
       "        element.appendChild(docLink);\n",
       "      }\n",
       "    </script>\n",
       "  </div>\n",
       "\n",
       "\n",
       "<div id=\"df-4df66d82-848b-4101-b5b5-fa84a91e833b\">\n",
       "  <button class=\"colab-df-quickchart\" onclick=\"quickchart('df-4df66d82-848b-4101-b5b5-fa84a91e833b')\"\n",
       "            title=\"Suggest charts\"\n",
       "            style=\"display:none;\">\n",
       "\n",
       "<svg xmlns=\"http://www.w3.org/2000/svg\" height=\"24px\"viewBox=\"0 0 24 24\"\n",
       "     width=\"24px\">\n",
       "    <g>\n",
       "        <path d=\"M19 3H5c-1.1 0-2 .9-2 2v14c0 1.1.9 2 2 2h14c1.1 0 2-.9 2-2V5c0-1.1-.9-2-2-2zM9 17H7v-7h2v7zm4 0h-2V7h2v10zm4 0h-2v-4h2v4z\"/>\n",
       "    </g>\n",
       "</svg>\n",
       "  </button>\n",
       "\n",
       "<style>\n",
       "  .colab-df-quickchart {\n",
       "      --bg-color: #E8F0FE;\n",
       "      --fill-color: #1967D2;\n",
       "      --hover-bg-color: #E2EBFA;\n",
       "      --hover-fill-color: #174EA6;\n",
       "      --disabled-fill-color: #AAA;\n",
       "      --disabled-bg-color: #DDD;\n",
       "  }\n",
       "\n",
       "  [theme=dark] .colab-df-quickchart {\n",
       "      --bg-color: #3B4455;\n",
       "      --fill-color: #D2E3FC;\n",
       "      --hover-bg-color: #434B5C;\n",
       "      --hover-fill-color: #FFFFFF;\n",
       "      --disabled-bg-color: #3B4455;\n",
       "      --disabled-fill-color: #666;\n",
       "  }\n",
       "\n",
       "  .colab-df-quickchart {\n",
       "    background-color: var(--bg-color);\n",
       "    border: none;\n",
       "    border-radius: 50%;\n",
       "    cursor: pointer;\n",
       "    display: none;\n",
       "    fill: var(--fill-color);\n",
       "    height: 32px;\n",
       "    padding: 0;\n",
       "    width: 32px;\n",
       "  }\n",
       "\n",
       "  .colab-df-quickchart:hover {\n",
       "    background-color: var(--hover-bg-color);\n",
       "    box-shadow: 0 1px 2px rgba(60, 64, 67, 0.3), 0 1px 3px 1px rgba(60, 64, 67, 0.15);\n",
       "    fill: var(--button-hover-fill-color);\n",
       "  }\n",
       "\n",
       "  .colab-df-quickchart-complete:disabled,\n",
       "  .colab-df-quickchart-complete:disabled:hover {\n",
       "    background-color: var(--disabled-bg-color);\n",
       "    fill: var(--disabled-fill-color);\n",
       "    box-shadow: none;\n",
       "  }\n",
       "\n",
       "  .colab-df-spinner {\n",
       "    border: 2px solid var(--fill-color);\n",
       "    border-color: transparent;\n",
       "    border-bottom-color: var(--fill-color);\n",
       "    animation:\n",
       "      spin 1s steps(1) infinite;\n",
       "  }\n",
       "\n",
       "  @keyframes spin {\n",
       "    0% {\n",
       "      border-color: transparent;\n",
       "      border-bottom-color: var(--fill-color);\n",
       "      border-left-color: var(--fill-color);\n",
       "    }\n",
       "    20% {\n",
       "      border-color: transparent;\n",
       "      border-left-color: var(--fill-color);\n",
       "      border-top-color: var(--fill-color);\n",
       "    }\n",
       "    30% {\n",
       "      border-color: transparent;\n",
       "      border-left-color: var(--fill-color);\n",
       "      border-top-color: var(--fill-color);\n",
       "      border-right-color: var(--fill-color);\n",
       "    }\n",
       "    40% {\n",
       "      border-color: transparent;\n",
       "      border-right-color: var(--fill-color);\n",
       "      border-top-color: var(--fill-color);\n",
       "    }\n",
       "    60% {\n",
       "      border-color: transparent;\n",
       "      border-right-color: var(--fill-color);\n",
       "    }\n",
       "    80% {\n",
       "      border-color: transparent;\n",
       "      border-right-color: var(--fill-color);\n",
       "      border-bottom-color: var(--fill-color);\n",
       "    }\n",
       "    90% {\n",
       "      border-color: transparent;\n",
       "      border-bottom-color: var(--fill-color);\n",
       "    }\n",
       "  }\n",
       "</style>\n",
       "\n",
       "  <script>\n",
       "    async function quickchart(key) {\n",
       "      const quickchartButtonEl =\n",
       "        document.querySelector('#' + key + ' button');\n",
       "      quickchartButtonEl.disabled = true;  // To prevent multiple clicks.\n",
       "      quickchartButtonEl.classList.add('colab-df-spinner');\n",
       "      try {\n",
       "        const charts = await google.colab.kernel.invokeFunction(\n",
       "            'suggestCharts', [key], {});\n",
       "      } catch (error) {\n",
       "        console.error('Error during call to suggestCharts:', error);\n",
       "      }\n",
       "      quickchartButtonEl.classList.remove('colab-df-spinner');\n",
       "      quickchartButtonEl.classList.add('colab-df-quickchart-complete');\n",
       "    }\n",
       "    (() => {\n",
       "      let quickchartButtonEl =\n",
       "        document.querySelector('#df-4df66d82-848b-4101-b5b5-fa84a91e833b button');\n",
       "      quickchartButtonEl.style.display =\n",
       "        google.colab.kernel.accessAllowed ? 'block' : 'none';\n",
       "    })();\n",
       "  </script>\n",
       "</div>\n",
       "\n",
       "    </div>\n",
       "  </div>\n"
      ],
      "text/plain": [
       "                                                 Url  ProductId   BrandName  \\\n",
       "0  https://www.myntra.com/jeans/roadster/roadster...    2296012    Roadster   \n",
       "1  https://www.myntra.com/track-pants/locomotive/...   13780156  LOCOMOTIVE   \n",
       "\n",
       "      Category  SubCategory Gender  \\\n",
       "0  Bottom Wear        jeans    Men   \n",
       "1  Bottom Wear  track-pants    Men   \n",
       "\n",
       "                                         Description  DiscountPrice  \\\n",
       "0  roadster men navy blue slim fit mid rise clean...          824.0   \n",
       "1  locomotive men black  white solid slim fit tra...          517.0   \n",
       "\n",
       "   OriginalPrice DiscountOffer          SizeOption  Ratings  Reviews  \n",
       "0         1499.0       45% OFF  28, 30, 32, 34, 36      3.9    999.0  \n",
       "1         1149.0       55% OFF         S, M, L, XL      4.0    999.0  "
      ]
     },
     "execution_count": 11,
     "metadata": {},
     "output_type": "execute_result"
    }
   ],
   "source": [
    "# Cleaned dataframe\n",
    "df.head(2)"
   ]
  },
  {
   "cell_type": "code",
   "execution_count": 41,
   "id": "wGVNGnGtv3ts",
   "metadata": {
    "colab": {
     "base_uri": "https://localhost:8080/"
    },
    "id": "wGVNGnGtv3ts",
    "outputId": "d15a7dea-10fe-47ca-935e-9a598a884af5"
   },
   "outputs": [
    {
     "data": {
      "text/plain": [
       "(5000, 13)"
      ]
     },
     "execution_count": 41,
     "metadata": {},
     "output_type": "execute_result"
    }
   ],
   "source": [
    "# Dataset is very large so we are using only top 5000 rows\n",
    "df2 =df[:5000]\n",
    "df2.shape"
   ]
  },
  {
   "cell_type": "code",
   "execution_count": 42,
   "id": "tumffDKhoa8W",
   "metadata": {
    "id": "tumffDKhoa8W"
   },
   "outputs": [],
   "source": [
    "#Preparaing data for embedding\n",
    "documents = []\n",
    "for index, row in df2.iterrows():\n",
    "    doc_content = row['Description']\n",
    "    doc_metadata = {\n",
    "        'id': row['ProductId'],\n",
    "        'BrandName': row['BrandName'],\n",
    "        'Category': row['Category'],\n",
    "        'SubCategory': row['SubCategory'],\n",
    "        'Gender': row['Gender'],\n",
    "        'DiscountPrice': row['DiscountPrice'],\n",
    "        'OriginalPrice': row['OriginalPrice'],\n",
    "        'DiscountOffer': row['DiscountOffer'],\n",
    "        'Size': row['SizeOption'],\n",
    "        'Ratings': row['Ratings'],\n",
    "        'Reviews': row['Reviews'],\n",
    "    }\n",
    "    documents.append(Document(page_content=doc_content, metadata=doc_metadata))"
   ]
  },
  {
   "cell_type": "markdown",
   "id": "L8rlV8eTHKuQ",
   "metadata": {
    "id": "L8rlV8eTHKuQ"
   },
   "source": [
    "## Initializing LLM"
   ]
  },
  {
   "cell_type": "code",
   "execution_count": 15,
   "id": "ku_74a0fHN0v",
   "metadata": {
    "id": "ku_74a0fHN0v"
   },
   "outputs": [],
   "source": [
    "# Getting OpenAI Key from google colab\n",
    "from google.colab import userdata\n",
    "openai_key = userdata.get('open_ai')"
   ]
  },
  {
   "cell_type": "code",
   "execution_count": 34,
   "id": "DYTP96S_HPml",
   "metadata": {
    "id": "DYTP96S_HPml"
   },
   "outputs": [],
   "source": [
    "# Initialize OpenAI LLM\n",
    "llm = OpenAI(openai_api_key=openai_key)"
   ]
  },
  {
   "cell_type": "markdown",
   "id": "pYQ2IEzQvE-X",
   "metadata": {
    "id": "pYQ2IEzQvE-X"
   },
   "source": [
    "## Create Database store and storing embeddings"
   ]
  },
  {
   "cell_type": "code",
   "execution_count": 43,
   "id": "VvaVlUaIyCBD",
   "metadata": {
    "id": "VvaVlUaIyCBD"
   },
   "outputs": [],
   "source": [
    "# Store documents in ChromaDB\n",
    "embedding = OpenAIEmbeddings(openai_api_key=openai_key)\n",
    "vector_store = Chroma.from_documents(documents, embedding)"
   ]
  },
  {
   "cell_type": "markdown",
   "id": "vYlw0yd8v3uH",
   "metadata": {
    "id": "vYlw0yd8v3uH"
   },
   "source": [
    "## Initializing RAG using LangChain"
   ]
  },
  {
   "cell_type": "code",
   "execution_count": 44,
   "id": "98869432-c0fe-4723-a964-b4264a015379",
   "metadata": {
    "id": "98869432-c0fe-4723-a964-b4264a015379"
   },
   "outputs": [],
   "source": [
    "# Set up the retriever for ChromaDB (to retrieve top 3 results)\n",
    "retriever = vector_store.as_retriever(search_type=\"similarity\", search_kwargs={\"k\": 3})"
   ]
  },
  {
   "cell_type": "code",
   "execution_count": 45,
   "id": "KDubjIMczQ1S",
   "metadata": {
    "id": "KDubjIMczQ1S"
   },
   "outputs": [],
   "source": [
    "# Function to recommend top 3 products based on user query\n",
    "def recommend_products(query):\n",
    "    # Retrieve the top 3 results from ChromaDB\n",
    "    results = retriever.get_relevant_documents(query)\n",
    "\n",
    "    for idx, result in enumerate(results, start=1):\n",
    "        Description = result.page_content\n",
    "        ProductId = result.metadata.get('id', 'N/A')\n",
    "        BrandName = result.metadata.get('BrandName', 'N/A')\n",
    "        Category = result.metadata.get('Category', 'N/A')\n",
    "        SubCategory = result.metadata.get('SubCategory', 'N/A')\n",
    "        Gender = result.metadata.get('Gender', 'N/A')\n",
    "        DiscountPrice = result.metadata.get('DiscountPrice', 'N/A')\n",
    "        OriginalPrice = result.metadata.get('OriginalPrice', 'N/A')\n",
    "        DiscountOffer = result.metadata.get('DiscountOffer', 'N/A')\n",
    "        Size = result.metadata.get('Size', 'N/A')\n",
    "        Ratings = result.metadata.get('Ratings', 'N/A')\n",
    "        Reviews = result.metadata.get('Reviews', 'N/A')\n",
    "\n",
    "        print(f\"Rank: {idx}\")\n",
    "        print(f\"Product Id: {ProductId}\")\n",
    "        print(f\"Description: {Description}\")\n",
    "        print(f\"Brand Name: {BrandName}\")\n",
    "        print(f\"Category: {Category}\")\n",
    "        print(f\"Sub Category: {SubCategory}\")\n",
    "        print(f\"Gender: {Gender}\")\n",
    "        print(f\"Discount Price: {DiscountPrice}\")\n",
    "        print(f\"Original Price: {OriginalPrice}\")\n",
    "        print(f\"Discount Offer: {DiscountOffer}\")\n",
    "        print(f'Size: {Size}')\n",
    "        print(f'Ratings: {Ratings}')\n",
    "        print(f'Reviews: {Reviews}')\n",
    "        print()\n",
    "        print(\"=\" * 50)\n",
    "\n",
    "    return \"\""
   ]
  },
  {
   "cell_type": "markdown",
   "id": "ZH3vJHw8wObH",
   "metadata": {
    "id": "ZH3vJHw8wObH"
   },
   "source": [
    "## Testing Queries"
   ]
  },
  {
   "cell_type": "code",
   "execution_count": 46,
   "id": "q-p30R3duhiT",
   "metadata": {
    "colab": {
     "base_uri": "https://localhost:8080/",
     "height": 816
    },
    "id": "q-p30R3duhiT",
    "outputId": "34928718-208c-4eca-8c2e-31d9363985d0"
   },
   "outputs": [
    {
     "name": "stdout",
     "output_type": "stream",
     "text": [
      "Rank: 1\n",
      "Product Id: 10996416\n",
      "Description: myshka women navy blue  orange printed maxi a line dress\n",
      "Brand Name: Myshka\n",
      "Category: Indian Wear\n",
      "Sub Category: dresses\n",
      "Gender: Women\n",
      "Discount Price: 899.0\n",
      "Original Price: 1999.0\n",
      "Discount Offer: 55% OFF\n",
      "Size: S, M, L, XL, XXL\n",
      "Ratings: 4.3\n",
      "Reviews: 452.0\n",
      "\n",
      "==================================================\n",
      "Rank: 2\n",
      "Product Id: 9825443\n",
      "Description: myshka women teal blue  grey printed a line dress\n",
      "Brand Name: Myshka\n",
      "Category: Indian Wear\n",
      "Sub Category: dresses\n",
      "Gender: Women\n",
      "Discount Price: 629.0\n",
      "Original Price: 1499.0\n",
      "Discount Offer: 58% OFF\n",
      "Size: S, M, L, XL, XXL\n",
      "Ratings: 3.6\n",
      "Reviews: 543.0\n",
      "\n",
      "==================================================\n",
      "Rank: 3\n",
      "Product Id: 2499823\n",
      "Description: herenow women maroon printed maxi dress\n",
      "Brand Name: HERE&NOW\n",
      "Category: Plus Size\n",
      "Sub Category: dresses\n",
      "Gender: Women\n",
      "Discount Price: 689.0\n",
      "Original Price: 2299.0\n",
      "Discount Offer: 70% OFF, Hurry*\n",
      "Size: XS, S, M, L, XL, XXL\n",
      "Ratings: 4.3\n",
      "Reviews: 881.0\n",
      "\n",
      "==================================================\n"
     ]
    },
    {
     "data": {
      "application/vnd.google.colaboratory.intrinsic+json": {
       "type": "string"
      },
      "text/plain": [
       "''"
      ]
     },
     "execution_count": 46,
     "metadata": {},
     "output_type": "execute_result"
    }
   ],
   "source": [
    "# Query 1\n",
    "query = \"Show me the latest dresses in size M\"\n",
    "recommend_products(query)"
   ]
  },
  {
   "cell_type": "code",
   "execution_count": 47,
   "id": "72074630-4222-4d7e-939a-3ad103101dd8",
   "metadata": {
    "colab": {
     "base_uri": "https://localhost:8080/",
     "height": 816
    },
    "id": "72074630-4222-4d7e-939a-3ad103101dd8",
    "outputId": "9587a637-d3e4-4c83-fb71-47742b38c76f"
   },
   "outputs": [
    {
     "name": "stdout",
     "output_type": "stream",
     "text": [
      "Rank: 1\n",
      "Product Id: 14311750\n",
      "Description: louis philippe jeans men teal blue pure cotton t shirt\n",
      "Brand Name: Louis Philippe Jeans\n",
      "Category: Topwear\n",
      "Sub Category: tshirts\n",
      "Gender: Men\n",
      "Discount Price: 539.0\n",
      "Original Price: 899.0\n",
      "Discount Offer: 40% OFF\n",
      "Size: S, M, L, XL, XXL, 3XL\n",
      "Ratings: 4.3\n",
      "Reviews: 344.0\n",
      "\n",
      "==================================================\n",
      "Rank: 2\n",
      "Product Id: 13920490\n",
      "Description: herenow men teal blue printed pure cotton t shirt\n",
      "Brand Name: HERE&NOW\n",
      "Category: Topwear\n",
      "Sub Category: tshirts\n",
      "Gender: Men\n",
      "Discount Price: 399.0\n",
      "Original Price: 999.0\n",
      "Discount Offer: 60% OFF\n",
      "Size: S, M, L, XL\n",
      "Ratings: 4.0\n",
      "Reviews: 553.0\n",
      "\n",
      "==================================================\n",
      "Rank: 3\n",
      "Product Id: 12787018\n",
      "Description: herenow men teal blue solid round neck t shirt\n",
      "Brand Name: HERE&NOW\n",
      "Category: Topwear\n",
      "Sub Category: tshirts\n",
      "Gender: Men\n",
      "Discount Price: 174.0\n",
      "Original Price: 699.0\n",
      "Discount Offer: 75% OFF\n",
      "Size: S, M, L, XL\n",
      "Ratings: 4.3\n",
      "Reviews: 851.0\n",
      "\n",
      "==================================================\n"
     ]
    },
    {
     "data": {
      "application/vnd.google.colaboratory.intrinsic+json": {
       "type": "string"
      },
      "text/plain": [
       "''"
      ]
     },
     "execution_count": 47,
     "metadata": {},
     "output_type": "execute_result"
    }
   ],
   "source": [
    "# Query 2\n",
    "query = \"Show me t-shirts for men in size L and color blue\"\n",
    "recommend_products(query)"
   ]
  },
  {
   "cell_type": "code",
   "execution_count": 48,
   "id": "e2c6f3bf-41d9-4085-af2b-d0c2b72a0633",
   "metadata": {
    "colab": {
     "base_uri": "https://localhost:8080/",
     "height": 816
    },
    "id": "e2c6f3bf-41d9-4085-af2b-d0c2b72a0633",
    "outputId": "f030bbdf-65d3-40d1-ee2b-32a166d91cb8"
   },
   "outputs": [
    {
     "name": "stdout",
     "output_type": "stream",
     "text": [
      "Rank: 1\n",
      "Product Id: 8936551\n",
      "Description: pepe jeans men blue printed brief 8904311301035\n",
      "Brand Name: Pepe Jeans\n",
      "Category: Inner Wear &  Sleep Wear\n",
      "Sub Category: briefs\n",
      "Gender: Men\n",
      "Discount Price: 254.0\n",
      "Original Price: 299.0\n",
      "Discount Offer: 15% OFF\n",
      "Size: S, M, L\n",
      "Ratings: 4.3\n",
      "Reviews: 445.0\n",
      "\n",
      "==================================================\n",
      "Rank: 2\n",
      "Product Id: 8936555\n",
      "Description: pepe jeans men navy blue solid hipster briefs 8904311300830\n",
      "Brand Name: Pepe Jeans\n",
      "Category: Inner Wear &  Sleep Wear\n",
      "Sub Category: briefs\n",
      "Gender: Men\n",
      "Discount Price: 228.0\n",
      "Original Price: 269.0\n",
      "Discount Offer: 15% OFF\n",
      "Size: S, M, L\n",
      "Ratings: 4.2\n",
      "Reviews: 472.0\n",
      "\n",
      "==================================================\n",
      "Rank: 3\n",
      "Product Id: 8936487\n",
      "Description: pepe jeans men black solid brief 8904311300755\n",
      "Brand Name: Pepe Jeans\n",
      "Category: Inner Wear &  Sleep Wear\n",
      "Sub Category: briefs\n",
      "Gender: Men\n",
      "Discount Price: 228.0\n",
      "Original Price: 269.0\n",
      "Discount Offer: 15% OFF\n",
      "Size: S, M, L\n",
      "Ratings: 4.3\n",
      "Reviews: 443.0\n",
      "\n",
      "==================================================\n"
     ]
    },
    {
     "data": {
      "application/vnd.google.colaboratory.intrinsic+json": {
       "type": "string"
      },
      "text/plain": [
       "''"
      ]
     },
     "execution_count": 48,
     "metadata": {},
     "output_type": "execute_result"
    }
   ],
   "source": [
    "# Query 3\n",
    "query = \"Show me jeans for men under 2000\"\n",
    "recommend_products(query)"
   ]
  },
  {
   "cell_type": "code",
   "execution_count": 49,
   "id": "15f112fd-6f3a-4e7c-89cb-0914b7c1a701",
   "metadata": {
    "colab": {
     "base_uri": "https://localhost:8080/",
     "height": 816
    },
    "id": "15f112fd-6f3a-4e7c-89cb-0914b7c1a701",
    "outputId": "80c99e14-f3d0-4172-dbad-51f49df0cd17"
   },
   "outputs": [
    {
     "name": "stdout",
     "output_type": "stream",
     "text": [
      "Rank: 1\n",
      "Product Id: 9717187\n",
      "Description: bhama couture blue  white striped a line pure cotton top\n",
      "Brand Name: Bhama Couture\n",
      "Category: Indian Wear\n",
      "Sub Category: tops\n",
      "Gender: Women\n",
      "Discount Price: 899.0\n",
      "Original Price: 1799.0\n",
      "Discount Offer: 50% OFF\n",
      "Size: S, M, L, XL\n",
      "Ratings: 4.1\n",
      "Reviews: 912.0\n",
      "\n",
      "==================================================\n",
      "Rank: 2\n",
      "Product Id: 9717187\n",
      "Description: bhama couture blue  white striped a line pure cotton top\n",
      "Brand Name: Bhama Couture\n",
      "Category: Indian Wear\n",
      "Sub Category: tops\n",
      "Gender: Women\n",
      "Discount Price: 899.0\n",
      "Original Price: 1799.0\n",
      "Discount Offer: 50% OFF\n",
      "Size: S, M, L, XL\n",
      "Ratings: 4.1\n",
      "Reviews: 912.0\n",
      "\n",
      "==================================================\n",
      "Rank: 3\n",
      "Product Id: 10343555\n",
      "Description: bhama couture women yellow  white bandhani print kurta with palazzos\n",
      "Brand Name: Bhama Couture\n",
      "Category: Indian Wear\n",
      "Sub Category: kurta-sets\n",
      "Gender: Women\n",
      "Discount Price: 1403.0\n",
      "Original Price: 3599.0\n",
      "Discount Offer: 61% OFF\n",
      "Size: S, M, L, XL, XXL\n",
      "Ratings: 4.4\n",
      "Reviews: 407.0\n",
      "\n",
      "==================================================\n"
     ]
    },
    {
     "data": {
      "application/vnd.google.colaboratory.intrinsic+json": {
       "type": "string"
      },
      "text/plain": [
       "''"
      ]
     },
     "execution_count": 49,
     "metadata": {},
     "output_type": "execute_result"
    }
   ],
   "source": [
    "# Query 4\n",
    "query = \"Show me best summer collection for children\"\n",
    "recommend_products(query)"
   ]
  },
  {
   "cell_type": "code",
   "execution_count": 50,
   "id": "9d08763a-7bd7-4d5f-a3a8-6d3f8f4f3ca9",
   "metadata": {
    "colab": {
     "base_uri": "https://localhost:8080/",
     "height": 816
    },
    "id": "9d08763a-7bd7-4d5f-a3a8-6d3f8f4f3ca9",
    "outputId": "62b3c9cf-7ac2-4873-eea5-42a88fc70951"
   },
   "outputs": [
    {
     "name": "stdout",
     "output_type": "stream",
     "text": [
      "Rank: 1\n",
      "Product Id: 1518326\n",
      "Description: dupatta bazaar black embroidered chiffon dupatta\n",
      "Brand Name: Dupatta Bazaar\n",
      "Category: Indian Wear\n",
      "Sub Category: dupatta\n",
      "Gender: Women\n",
      "Discount Price: 476.0\n",
      "Original Price: 899.0\n",
      "Discount Offer: 47% OFF\n",
      "Size: Onesize\n",
      "Ratings: 4.3\n",
      "Reviews: 418.0\n",
      "\n",
      "==================================================\n",
      "Rank: 2\n",
      "Product Id: 1763993\n",
      "Description: dollar bigboss men multicoloured pack of 5 briefs mdbr 02 po5 1\n",
      "Brand Name: Dollar Bigboss\n",
      "Category: Inner Wear &  Sleep Wear\n",
      "Sub Category: briefs\n",
      "Gender: Men\n",
      "Discount Price: 671.0\n",
      "Original Price: 895.0\n",
      "Discount Offer: 25% OFF\n",
      "Size: S, M, L, XL, XXL, 3XL, 4XL\n",
      "Ratings: 4.0\n",
      "Reviews: 436.0\n",
      "\n",
      "==================================================\n",
      "Rank: 3\n",
      "Product Id: 12027362\n",
      "Description: levis men assorted printed  pure cotton boxers 023 boxer shorts\n",
      "Brand Name: Levis\n",
      "Category: Inner Wear &  Sleep Wear\n",
      "Sub Category: boxers\n",
      "Gender: Men\n",
      "Discount Price: 494.0\n",
      "Original Price: 549.0\n",
      "Discount Offer: 10% OFF\n",
      "Size: S, M, L, XL\n",
      "Ratings: 4.4\n",
      "Reviews: 411.0\n",
      "\n",
      "==================================================\n"
     ]
    },
    {
     "data": {
      "application/vnd.google.colaboratory.intrinsic+json": {
       "type": "string"
      },
      "text/plain": [
       "''"
      ]
     },
     "execution_count": 50,
     "metadata": {},
     "output_type": "execute_result"
    }
   ],
   "source": [
    "# Query 5\n",
    "query = \"Show me products for highest discounts\"\n",
    "recommend_products(query)"
   ]
  },
  {
   "cell_type": "code",
   "execution_count": null,
   "id": "32d14727-a735-4618-9cf1-5d8f0e269522",
   "metadata": {
    "id": "32d14727-a735-4618-9cf1-5d8f0e269522"
   },
   "outputs": [],
   "source": []
  },
  {
   "cell_type": "code",
   "execution_count": null,
   "id": "e88a1a33-cf69-48dc-9c7a-f551983c9d90",
   "metadata": {
    "id": "e88a1a33-cf69-48dc-9c7a-f551983c9d90"
   },
   "outputs": [],
   "source": []
  },
  {
   "cell_type": "code",
   "execution_count": null,
   "id": "1fd416f1-574c-4e33-b4a0-a432e26dfa1f",
   "metadata": {
    "id": "1fd416f1-574c-4e33-b4a0-a432e26dfa1f"
   },
   "outputs": [],
   "source": []
  },
  {
   "cell_type": "code",
   "execution_count": null,
   "id": "34e32e12-3985-4d6b-9d96-6938ef07e225",
   "metadata": {
    "id": "34e32e12-3985-4d6b-9d96-6938ef07e225"
   },
   "outputs": [],
   "source": []
  },
  {
   "cell_type": "code",
   "execution_count": null,
   "id": "51f6c42a-15ed-4d52-bf4e-7c3e9664cb9e",
   "metadata": {
    "id": "51f6c42a-15ed-4d52-bf4e-7c3e9664cb9e"
   },
   "outputs": [],
   "source": []
  },
  {
   "cell_type": "code",
   "execution_count": null,
   "id": "18803e39-8014-4b78-96d2-736f9e38fb53",
   "metadata": {
    "id": "18803e39-8014-4b78-96d2-736f9e38fb53"
   },
   "outputs": [],
   "source": []
  }
 ],
 "metadata": {
  "colab": {
   "provenance": []
  },
  "kernelspec": {
   "display_name": "Python 3 (ipykernel)",
   "language": "python",
   "name": "python3"
  },
  "language_info": {
   "codemirror_mode": {
    "name": "ipython",
    "version": 3
   },
   "file_extension": ".py",
   "mimetype": "text/x-python",
   "name": "python",
   "nbconvert_exporter": "python",
   "pygments_lexer": "ipython3",
   "version": "3.11.7"
  }
 },
 "nbformat": 4,
 "nbformat_minor": 5
}
